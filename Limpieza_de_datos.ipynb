{
 "cells": [
  {
   "cell_type": "markdown",
   "metadata": {},
   "source": [
    "# Limpieza de datos "
   ]
  },
  {
   "cell_type": "markdown",
   "metadata": {},
   "source": [
    "## Acerca del conjunto de datos\n",
    "### Contexto\n",
    "El conjunto de datos original contiene 1000 entradas con 10 atributos categóricos/simbólicos preparados por el profesor Hofmann. En este conjunto de datos, cada entrada representa a una persona que solicita un crédito a un banco. Cada persona se clasifica como de riesgo crediticio bueno o malo según el conjunto de atributos. "
   ]
  },
  {
   "cell_type": "code",
   "execution_count": 45,
   "metadata": {},
   "outputs": [
    {
     "name": "stdout",
     "output_type": "stream",
     "text": [
      "     Unnamed: 0  Age     Sex  Job Housing Saving accounts Checking account  \\\n",
      "0             0   67    male    2     own             NaN           little   \n",
      "1             1   22  female    2     own          little         moderate   \n",
      "2             2   49    male    1     own          little              NaN   \n",
      "3             3   45    male    2    free          little           little   \n",
      "4             4   53    male    2    free          little           little   \n",
      "..          ...  ...     ...  ...     ...             ...              ...   \n",
      "995         995   31  female    1     own          little              NaN   \n",
      "996         996   40    male    3     own          little           little   \n",
      "997         997   38    male    2     own          little              NaN   \n",
      "998         998   23    male    2    free          little           little   \n",
      "999         999   27    male    2     own        moderate         moderate   \n",
      "\n",
      "     Credit amount  Duration              Purpose  \n",
      "0             1169         6             radio/TV  \n",
      "1             5951        48             radio/TV  \n",
      "2             2096        12            education  \n",
      "3             7882        42  furniture/equipment  \n",
      "4             4870        24                  car  \n",
      "..             ...       ...                  ...  \n",
      "995           1736        12  furniture/equipment  \n",
      "996           3857        30                  car  \n",
      "997            804        12             radio/TV  \n",
      "998           1845        45             radio/TV  \n",
      "999           4576        45                  car  \n",
      "\n",
      "[1000 rows x 10 columns]\n"
     ]
    }
   ],
   "source": [
    "import pandas as pd\n",
    "\n",
    "df = pd.read_csv('german_credit_data.csv')\n",
    "\n",
    "print(df)"
   ]
  },
  {
   "cell_type": "markdown",
   "metadata": {},
   "source": [
    "## Eliminamos la variable unnamed ya que esta variable no es necesaria "
   ]
  },
  {
   "cell_type": "code",
   "execution_count": 46,
   "metadata": {},
   "outputs": [
    {
     "name": "stdout",
     "output_type": "stream",
     "text": [
      "     Age     Sex  Job Housing Saving accounts Checking account  Credit amount  \\\n",
      "0     67    male    2     own             NaN           little           1169   \n",
      "1     22  female    2     own          little         moderate           5951   \n",
      "2     49    male    1     own          little              NaN           2096   \n",
      "3     45    male    2    free          little           little           7882   \n",
      "4     53    male    2    free          little           little           4870   \n",
      "..   ...     ...  ...     ...             ...              ...            ...   \n",
      "995   31  female    1     own          little              NaN           1736   \n",
      "996   40    male    3     own          little           little           3857   \n",
      "997   38    male    2     own          little              NaN            804   \n",
      "998   23    male    2    free          little           little           1845   \n",
      "999   27    male    2     own        moderate         moderate           4576   \n",
      "\n",
      "     Duration              Purpose  \n",
      "0           6             radio/TV  \n",
      "1          48             radio/TV  \n",
      "2          12            education  \n",
      "3          42  furniture/equipment  \n",
      "4          24                  car  \n",
      "..        ...                  ...  \n",
      "995        12  furniture/equipment  \n",
      "996        30                  car  \n",
      "997        12             radio/TV  \n",
      "998        45             radio/TV  \n",
      "999        45                  car  \n",
      "\n",
      "[1000 rows x 9 columns]\n"
     ]
    }
   ],
   "source": [
    "# Eliminar la columna 'Unnamed: 0' si no es necesaria\n",
    "df = df.drop(columns=['Unnamed: 0'])\n",
    "\n",
    "print(df)\n"
   ]
  },
  {
   "cell_type": "markdown",
   "metadata": {},
   "source": [
    "## Buscamos en las variables los valores nulos o faltantes \n",
    "\n",
    "Encontramos que en las variables Saving accounts  hay 183 valores faltantes  y  en la variable Checking account   hay 394 valores faltantes."
   ]
  },
  {
   "cell_type": "code",
   "execution_count": 47,
   "metadata": {},
   "outputs": [
    {
     "name": "stdout",
     "output_type": "stream",
     "text": [
      "\n",
      "Valores nulos por columna:\n",
      "Age                   0\n",
      "Sex                   0\n",
      "Job                   0\n",
      "Housing               0\n",
      "Saving accounts     183\n",
      "Checking account    394\n",
      "Credit amount         0\n",
      "Duration              0\n",
      "Purpose               0\n",
      "dtype: int64\n"
     ]
    }
   ],
   "source": [
    "# valores nulos en la data\n",
    "print(\"\\nValores nulos por columna:\")\n",
    "print(df.isnull().sum())\n"
   ]
  },
  {
   "cell_type": "code",
   "execution_count": 48,
   "metadata": {},
   "outputs": [
    {
     "name": "stdout",
     "output_type": "stream",
     "text": [
      "Valores únicos en 'Saving accounts':\n",
      "Saving accounts\n",
      "little        603\n",
      "NaN           183\n",
      "moderate      103\n",
      "quite rich     63\n",
      "rich           48\n",
      "Name: count, dtype: int64\n",
      "\n",
      "\n"
     ]
    }
   ],
   "source": [
    "# Valores únicos y frecuencias de 'Saving accounts'\n",
    "print(\"Valores únicos en 'Saving accounts':\")\n",
    "print(df['Saving accounts'].value_counts(dropna=False))\n",
    "print(\"\\n\")"
   ]
  },
  {
   "cell_type": "code",
   "execution_count": 49,
   "metadata": {},
   "outputs": [],
   "source": [
    "df = df.dropna(subset=['Saving accounts'])"
   ]
  },
  {
   "cell_type": "code",
   "execution_count": 50,
   "metadata": {},
   "outputs": [
    {
     "name": "stdout",
     "output_type": "stream",
     "text": [
      "Valores únicos en 'Saving accounts':\n",
      "Saving accounts\n",
      "little        603\n",
      "moderate      103\n",
      "quite rich     63\n",
      "rich           48\n",
      "Name: count, dtype: int64\n",
      "\n",
      "\n"
     ]
    }
   ],
   "source": [
    "# Valores únicos y frecuencias de 'Saving accounts'\n",
    "print(\"Valores únicos en 'Saving accounts':\")\n",
    "print(df['Saving accounts'].value_counts(dropna=False))\n",
    "print(\"\\n\")"
   ]
  },
  {
   "cell_type": "markdown",
   "metadata": {},
   "source": [
    "### Se eliminan los valores nulos de las variables de la variable Saving accounts"
   ]
  },
  {
   "cell_type": "code",
   "execution_count": 51,
   "metadata": {},
   "outputs": [
    {
     "name": "stdout",
     "output_type": "stream",
     "text": [
      "Valores únicos en 'Checking account':\n",
      "Checking account\n",
      "NaN         295\n",
      "little      245\n",
      "moderate    224\n",
      "rich         53\n",
      "Name: count, dtype: int64\n"
     ]
    }
   ],
   "source": [
    "# Valores únicos y frecuencias de 'Checking account'\n",
    "print(\"Valores únicos en 'Checking account':\")\n",
    "print(df['Checking account'].value_counts(dropna=False))"
   ]
  },
  {
   "cell_type": "code",
   "execution_count": 52,
   "metadata": {},
   "outputs": [],
   "source": [
    "df = df.dropna(subset=['Checking account'])"
   ]
  },
  {
   "cell_type": "code",
   "execution_count": 53,
   "metadata": {},
   "outputs": [
    {
     "name": "stdout",
     "output_type": "stream",
     "text": [
      "Valores únicos en 'Checking account':\n",
      "Checking account\n",
      "little      245\n",
      "moderate    224\n",
      "rich         53\n",
      "Name: count, dtype: int64\n"
     ]
    }
   ],
   "source": [
    "# Valores únicos y frecuencias de 'Checking account'\n",
    "print(\"Valores únicos en 'Checking account':\")\n",
    "print(df['Checking account'].value_counts(dropna=False))"
   ]
  },
  {
   "cell_type": "markdown",
   "metadata": {},
   "source": [
    "### Se eliminan los valores nulos de las variables de la variable Checking account"
   ]
  },
  {
   "cell_type": "code",
   "execution_count": null,
   "metadata": {},
   "outputs": [],
   "source": [
    "print(df)"
   ]
  },
  {
   "cell_type": "markdown",
   "metadata": {},
   "source": [
    "### Ya terminada la limpieza de los datos la base de datos tiene 522 observaciones y 9 variables."
   ]
  }
 ],
 "metadata": {
  "kernelspec": {
   "display_name": "Python 3",
   "language": "python",
   "name": "python3"
  },
  "language_info": {
   "codemirror_mode": {
    "name": "ipython",
    "version": 3
   },
   "file_extension": ".py",
   "mimetype": "text/x-python",
   "name": "python",
   "nbconvert_exporter": "python",
   "pygments_lexer": "ipython3",
   "version": "3.12.4"
  }
 },
 "nbformat": 4,
 "nbformat_minor": 2
}
